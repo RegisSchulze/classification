{
 "cells": [
  {
   "cell_type": "code",
   "execution_count": null,
   "id": "configured-keeping",
   "metadata": {},
   "outputs": [],
   "source": [
    "def preprocessing(test):\n",
    "    columns=['PassengerId','Pclass','SibSp']\n",
    "    for col in columns:\n",
    "        test[col] = test[col].astype(int)\n",
    "        columns=['Age','Fare']\n",
    "    for col in columns:\n",
    "        test[col] = test[col].astype(float)\n",
    "    test['Name'].replace('\"', '', inplace=True)\n",
    "    test['Maiden_Name']='No maiden name given'\n",
    "    for i in range(len(test.Name)):\n",
    "    name=test.loc[i,'Name']\n",
    "    if '(' in name:\n",
    "        start=name.find('(')\n",
    "        end=name.find(')')\n",
    "        test.loc[i,'Maiden_Name']=name[start+1:end]\n",
    "        test.loc[i,'Name']=name[:start]\n",
    "    test['Family_Name'] = test['Name'].apply(lambda x: x.split(\",\")[0])\n",
    "    test['Full_First_Name'] = test['Name'].apply(lambda x: x.split(\",\")[1])\n",
    "    test['Title'] = test['Full_First_Name'].apply(lambda x : x.split(\".\")[0])\n",
    "    test['First_Name'] = test['Full_First_Name'].apply(lambda x : x.split(\".\")[1])\n",
    "    test.drop(['Full_First_Name'], axis=1, inplace=True)"
   ]
  }
 ],
 "metadata": {
  "kernelspec": {
   "display_name": "Python 3",
   "language": "python",
   "name": "python3"
  },
  "language_info": {
   "codemirror_mode": {
    "name": "ipython",
    "version": 3
   },
   "file_extension": ".py",
   "mimetype": "text/x-python",
   "name": "python",
   "nbconvert_exporter": "python",
   "pygments_lexer": "ipython3",
   "version": "3.7.7"
  }
 },
 "nbformat": 4,
 "nbformat_minor": 5
}
